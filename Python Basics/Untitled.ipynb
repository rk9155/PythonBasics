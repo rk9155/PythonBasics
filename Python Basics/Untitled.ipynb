{
 "cells": [
  {
   "cell_type": "code",
   "execution_count": 2,
   "metadata": {},
   "outputs": [
    {
     "data": {
      "text/plain": [
       "2"
      ]
     },
     "execution_count": 2,
     "metadata": {},
     "output_type": "execute_result"
    }
   ],
   "source": [
    "import numpy as np\n",
    "def mostFrequent(arr, n): \n",
    "    arr.sort() \n",
    "    max_count = 1; res = arr[0]; curr_count = 1\n",
    "      \n",
    "    for i in range(1, n):  \n",
    "        if (arr[i] == arr[i - 1]): \n",
    "            curr_count += 1\n",
    "              \n",
    "        else : \n",
    "            if (curr_count > max_count):  \n",
    "                max_count = curr_count \n",
    "                res = arr[i - 1]  \n",
    "            curr_count = 1\n",
    "    if (curr_count > max_count): \n",
    "        max_count = curr_count \n",
    "        res = arr[n - 1]  \n",
    "    return res \n",
    "l = [2,12,2,11,12,2,1,2,2,11,12,2,6]\n",
    "arr = np.asarray(l)\n",
    "n = len(arr)\n",
    "ans = mostFrequent(arr,n)\n",
    "ans\n"
   ]
  },
  {
   "cell_type": "code",
   "execution_count": null,
   "metadata": {},
   "outputs": [],
   "source": []
  }
 ],
 "metadata": {
  "kernelspec": {
   "display_name": "Python 3",
   "language": "python",
   "name": "python3"
  },
  "language_info": {
   "codemirror_mode": {
    "name": "ipython",
    "version": 3
   },
   "file_extension": ".py",
   "mimetype": "text/x-python",
   "name": "python",
   "nbconvert_exporter": "python",
   "pygments_lexer": "ipython3",
   "version": "3.7.6"
  }
 },
 "nbformat": 4,
 "nbformat_minor": 4
}
